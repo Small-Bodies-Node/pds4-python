{
 "cells": [
  {
   "cell_type": "markdown",
   "metadata": {},
   "source": [
    "# Examine an image of comet C/2013 A1\n",
    "\n",
    "For this exercise, we will examine an image of comet C/2013 A1 (Siding Spring) taken with the BOPPS Infrared Camera (BIRC) onboard the Balloon Observation Platform for Planetary Science (BOPPS). The data are archived at the PDS Small Bodies Node: \"Balloon Observation Platform for Planetary Science (BOPPS) 2014 Observations: BIRC Co-Added Images\" by Cheng & Hibbits (2015), urn:nasa:pds:bopps2014:scoadded::v1.0. The data are available at: https://pdssbn.astro.umd.edu/holdings/pds4-bopps2014-v1.0/scoadded/SUPPORT/dataset.html.\n",
    "\n",
    "The data set consists of a aligned and coadded images of three comets and asteroid Ceres, taken through at filter at 0.67 μm, and a series of filters between 2 and 5 μm. The images are binary 2D arrays with PDS4 labels.\n",
    "\n",
    "The following code is written for Python 3."
   ]
  }
 ],
 "metadata": {
  "kernelspec": {
   "display_name": "Python 3",
   "language": "python",
   "name": "python3"
  },
  "language_info": {
   "codemirror_mode": {
    "name": "ipython",
    "version": 3
   },
   "file_extension": ".py",
   "mimetype": "text/x-python",
   "name": "python",
   "nbconvert_exporter": "python",
   "pygments_lexer": "ipython3",
   "version": "3.5.3"
  }
 },
 "nbformat": 4,
 "nbformat_minor": 2
}
