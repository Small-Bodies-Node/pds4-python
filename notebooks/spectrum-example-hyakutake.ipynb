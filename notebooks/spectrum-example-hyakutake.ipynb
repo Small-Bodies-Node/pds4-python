{
 "cells": [
  {
   "cell_type": "markdown",
   "metadata": {},
   "source": [
    "# Examine spectrum of C/1996 B1 (Hyakutake)\n",
    "\n",
    "For this exercise, we will examine a spectrum of comet C/1996 B1 (Hyakutake) taken from Kitt Peak.  The data are archived at the PDS Small Bodies Node: \"Spectra of C/1996 B2 (Hyakutake) for Multiple Offsets from Photocenter\" by A'Hearn et al. (2015), urn:nasa:pds:gbo-kpno:hyakutake_spectra::1.0.  The data are available at: https://pdssbn.astro.umd.edu/holdings/pds4-gbo-kpno:hyakutake_spectra-v1.0/SUPPORT/dataset.html.\n",
    "\n",
    "The data set consists of a series of spectra with high-spectral resolving power between 3040 to 4500 Å at multiple offsets from the nucleus.  The data are text-based tables with PDS4 labels.\n",
    "\n",
    "The following code is written for Python 3."
   ]
  },
  {
   "cell_type": "markdown",
   "metadata": {},
   "source": [
    "## The short-short version: Download, read, inspect, and plot the spectrum"
   ]
  },
  {
   "cell_type": "code",
   "execution_count": 5,
   "metadata": {
    "collapsed": false
   },
   "outputs": [
    {
     "name": "stdout",
     "output_type": "stream",
     "text": [
      "Processing label: offset_0_arcsec.xml\n",
      "Now processing a Table_Character structure: Spectrum\n",
      "\n",
      "Fields for Table_Character 'Spectrum' (2 fields x 22434 records): \n",
      "\n",
      "Wavelength\n",
      "Flux Density\n"
     ]
    },
    {
     "data": {
      "image/png": "[encoded data removed]",
      "text/plain": [
       "<matplotlib.figure.Figure at 0x7fb81c4b3ac8>"
      ]
     },
     "metadata": {},
     "output_type": "display_data"
    },
    {
     "data": {
      "text/plain": [
       "<matplotlib.figure.Figure at 0x7fb7fa5fdb38>"
      ]
     },
     "metadata": {},
     "output_type": "display_data"
    }
   ],
   "source": [
    "from urllib.request import urlretrieve # to download the data\n",
    "from pds4_tools import pds4_read       # to read and inspect the data and metadata\n",
    "import textwrap                        # for reformatting label text\n",
    "import matplotlib.pyplot as plt        # for plotting\n",
    "\n",
    "# for plotting in Jupyter notebooks\n",
    "%matplotlib inline\n",
    "\n",
    "# Download data from PDS SBN\n",
    "label_fn, headers = urlretrieve('https://pdssbn.astro.umd.edu/holdings/pds4-gbo-kpno:hyakutake_spectra-v1.0/data/offset_0_arcsec.xml', filename='offset_0_arcsec.xml')\n",
    "table_fn, headers = urlretrieve('https://pdssbn.astro.umd.edu/holdings/pds4-gbo-kpno:hyakutake_spectra-v1.0/data/offset_0_arcsec.tab', filename='offset_0_arcsec.tab')\n",
    "\n",
    "# Read in the label (meta-data) and data.  If the data file is saved with the correct file name,\n",
    "# then reading in the label with pds4_read will also read in the data.\n",
    "data = pds4_read(label_fn)\n",
    "\n",
    "# The data is a table named \"Spectrum\".  Print out a summary of the data, including field (i.e.,\n",
    "# column) names.\n",
    "print()\n",
    "data['Spectrum'].info()\n",
    "\n",
    "# Plot the spectrum, including automatic labeling of the axis units.\n",
    "fig, ax = plt.subplots()\n",
    "ax.plot(data['Spectrum']['Wavelength'], data['Spectrum']['Flux Density'])\n",
    "labels = plt.setp(ax, xlabel='Wavelength ({})'.format(data['Spectrum']['Wavelength'].meta_data['unit']),\n",
    "                  ylabel='Flux density ({})'.format(data['Spectrum']['Flux Density'].meta_data['unit']))\n",
    "plt.show()\n",
    "plt.savefig('spectrum-example-hyakutake.png')"
   ]
  },
  {
   "cell_type": "markdown",
   "metadata": {},
   "source": [
    "## Detailed example with PDS4 label inspection"
   ]
  },
  {
   "cell_type": "markdown",
   "metadata": {},
   "source": [
    "### Download offset = 0 data from SBN"
   ]
  },
  {
   "cell_type": "code",
   "execution_count": 2,
   "metadata": {
    "collapsed": false
   },
   "outputs": [
    {
     "name": "stdout",
     "output_type": "stream",
     "text": [
      "Downloaded label and table: offset_0_arcsec.xml offset_0_arcsec.tab\n"
     ]
    }
   ],
   "source": [
    "from urllib.request import urlretrieve\n",
    "label_fn, headers = urlretrieve('https://pdssbn.astro.umd.edu/holdings/pds4-gbo-kpno:hyakutake_spectra-v1.0/data/offset_0_arcsec.xml', filename='offset_0_arcsec.xml')\n",
    "table_fn, headers = urlretrieve('https://pdssbn.astro.umd.edu/holdings/pds4-gbo-kpno:hyakutake_spectra-v1.0/data/offset_0_arcsec.tab', filename='offset_0_arcsec.tab')\n",
    "print('Downloaded label and table:', label_fn, table_fn)"
   ]
  },
  {
   "cell_type": "markdown",
   "metadata": {},
   "source": [
    "### Use PDS4 Python tools to read in the label and data"
   ]
  },
  {
   "cell_type": "code",
   "execution_count": 3,
   "metadata": {
    "collapsed": false
   },
   "outputs": [
    {
     "name": "stdout",
     "output_type": "stream",
     "text": [
      "Processing label: offset_0_arcsec.xml\n",
      "Now processing a Table_Character structure: Spectrum\n"
     ]
    }
   ],
   "source": [
    "from pds4_tools import pds4_read\n",
    "data = pds4_read(label_fn)"
   ]
  },
  {
   "cell_type": "markdown",
   "metadata": {},
   "source": [
    "### Inspect the label: The `<Observation_Area>` class\n",
    "The <Observation_Area> class describes the overall parameters of observational data (target, observing instrument, UTC, etc.). It is required in observational products.\n",
    "\n",
    "First, we print the immediate children of the `<Observation_Area>` tag, the contents of the `<comment>` tag, and the start and stop times of the data set."
   ]
  },
  {
   "cell_type": "code",
   "execution_count": 4,
   "metadata": {
    "collapsed": false
   },
   "outputs": [
    {
     "name": "stdout",
     "output_type": "stream",
     "text": [
      "comment\n",
      "Time_Coordinates\n",
      "Primary_Result_Summary\n",
      "Investigation_Area\n",
      "Observing_System\n",
      "Target_Identification\n"
     ]
    }
   ],
   "source": [
    "for e in data.label.findall('Observation_Area/*'):\n",
    "    print(e.tag)"
   ]
  },
  {
   "cell_type": "code",
   "execution_count": 11,
   "metadata": {
    "collapsed": false
   },
   "outputs": [
    {
     "name": "stdout",
     "output_type": "stream",
     "text": [
      "\n",
      "\t\t\tThese data were obtained on the date of closest approach of the\n",
      "\t\t\tcomet to Earth, so there is no significant Doppler shift in the\n",
      "\t\t\tcometary OH lines used for calibration.\n",
      "\t\t\t\n",
      "\t\t\tThese spectrum presented is a weighted (by exposure time)\n",
      "\t\t\taverage of three observations taken on the photocenter of\n",
      "\t\t\tthe comet with the slit oriented East-West. Two 600-second\n",
      "\t\t\tobservations and one 1800-second observation contributed to \n",
      "\t\t\tthis result.\n",
      "\t\t\t\n",
      "\t\t\tThe wavelength scale was set using a thorium-argon lamp \n",
      "\t\t\tspectrum, with further adjustment based on the fluorescent\n",
      "\t\t\tlines of OH in the 3140-3250 angstrom range.\n",
      "\t\t\n"
     ]
    }
   ],
   "source": [
    "# note, this text description is presented exactly as it is formatted in the label\n",
    "print(data.label.find('Observation_Area/comment').text)"
   ]
  },
  {
   "cell_type": "code",
   "execution_count": 6,
   "metadata": {
    "collapsed": false
   },
   "outputs": [
    {
     "name": "stdout",
     "output_type": "stream",
     "text": [
      "1996-03-26T05:57:57Z\n",
      "1996-03-26T11:19:23Z\n"
     ]
    }
   ],
   "source": [
    "print(data.label.find('Observation_Area/Time_Coordinates/start_date_time').text)\n",
    "print(data.label.find('Observation_Area/Time_Coordinates/stop_date_time').text)"
   ]
  },
  {
   "cell_type": "markdown",
   "metadata": {},
   "source": [
    "The `<Observing_System>` class documents the significant pieces of the observing equipment.  It is used, for example, to associate instruments, spacecraft, or telescopes with the product.  A user unfamiliar with the source of the data would discover these components via: "
   ]
  },
  {
   "cell_type": "code",
   "execution_count": 7,
   "metadata": {
    "collapsed": false
   },
   "outputs": [
    {
     "name": "stdout",
     "output_type": "stream",
     "text": [
      "Kitt Peak National Observatory\n",
      "Mayall 4m Telescope\n",
      "Echelle Spectrograph\n"
     ]
    }
   ],
   "source": [
    "for e in data.label.findall('Observation_Area/Observing_System/Observing_System_Component/name'):\n",
    "    print(e.text)"
   ]
  },
  {
   "cell_type": "markdown",
   "metadata": {},
   "source": [
    "## Inspect the data structure\n",
    "\n",
    "The file format can be discovered via the archive documentation or the label.  In this case, it is a fixed-width text-based table.  However, this knowledge is not critical beforehand if one using the PDS4 tools.  Product metadata is read in by the module, and can be inspected to help the user understand the data structure:"
   ]
  },
  {
   "cell_type": "code",
   "execution_count": 8,
   "metadata": {
    "collapsed": false
   },
   "outputs": [
    {
     "name": "stdout",
     "output_type": "stream",
     "text": [
      "0   Table_Character  'Spectrum'  2 fields x 22434 records\n"
     ]
    }
   ],
   "source": [
    "data.info()"
   ]
  },
  {
   "cell_type": "code",
   "execution_count": 9,
   "metadata": {
    "collapsed": false
   },
   "outputs": [
    {
     "name": "stdout",
     "output_type": "stream",
     "text": [
      "Fields for Table_Character 'Spectrum' (2 fields x 22434 records): \n",
      "\n",
      "Wavelength\n",
      "Flux Density\n",
      "\n",
      "Field descriptions:\n",
      "* Wavelength in Ångstroms\n",
      "* The flux density at the corresponding wavelength, measured over an\n",
      "  aperture ±3.7 arcseconds orthogonal to the offset direction, and\n",
      "  ±0.43 arcseconds in the offset (sunward) direction.\n"
     ]
    }
   ],
   "source": [
    "# The data is a table named \"Spectrum\".  Print out a summary of the data, including field (i.e.,\n",
    "# column) names.\n",
    "import textwrap\n",
    "\n",
    "data['Spectrum'].info()\n",
    "print()\n",
    "print('Field descriptions:')\n",
    "for k in ['Wavelength', 'Flux Density']:\n",
    "    desc = data['Spectrum'][k].meta_data['description']\n",
    "    # remove leading and trailing whitespace, tabs and newlines\n",
    "    desc = desc.strip()\n",
    "    desc = desc.replace('\\n', ' ').replace('\\t', '')\n",
    "    # re-wrap the description with an indent and \"bullet\"\n",
    "    print(textwrap.fill(desc, initial_indent='* ', subsequent_indent='  '))"
   ]
  },
  {
   "cell_type": "markdown",
   "metadata": {},
   "source": [
    "### Plot the spectrum with `matplotlib`"
   ]
  },
  {
   "cell_type": "code",
   "execution_count": 10,
   "metadata": {
    "collapsed": false
   },
   "outputs": [
    {
     "data": {
      "image/png": "[encoded data removed]",
      "text/plain": [
       "<matplotlib.figure.Figure at 0x7fc97fb040b8>"
      ]
     },
     "metadata": {},
     "output_type": "display_data"
    }
   ],
   "source": [
    "import matplotlib.pyplot as plt\n",
    "\n",
    "# to display plots inline in Jupyter notebook:\n",
    "%matplotlib inline\n",
    "\n",
    "# Create a new figure and axis\n",
    "fig, ax = plt.subplots()\n",
    "\n",
    "# Plot the spectrum\n",
    "ax.plot(data['Spectrum']['Wavelength'], data['Spectrum']['Flux Density'])\n",
    "\n",
    "# Note the automatic labeling of the axis units via metadata\n",
    "labels = plt.setp(ax, xlabel='Wavelength ({})'.format(data['Spectrum']['Wavelength'].meta_data['unit']),\n",
    "                  ylabel='Flux density ({})'.format(data['Spectrum']['Flux Density'].meta_data['unit']))\n",
    "\n",
    "plt.show()"
   ]
  }
 ],
 "metadata": {
  "kernelspec": {
   "display_name": "Python 3",
   "language": "python",
   "name": "python3"
  },
  "language_info": {
   "codemirror_mode": {
    "name": "ipython",
    "version": 3
   },
   "file_extension": ".py",
   "mimetype": "text/x-python",
   "name": "python",
   "nbconvert_exporter": "python",
   "pygments_lexer": "ipython3",
   "version": "3.5.3"
  }
 },
 "nbformat": 4,
 "nbformat_minor": 2
}
